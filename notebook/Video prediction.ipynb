{
 "cells": [
  {
   "cell_type": "markdown",
   "metadata": {
    "jupyter": {
     "outputs_hidden": true
    }
   },
   "source": [
    "# Video prediction"
   ]
  },
  {
   "cell_type": "code",
   "execution_count": null,
   "metadata": {},
   "outputs": [],
   "source": [
    "import torch\n",
    "from torch.utils.model_zoo import load_url\n",
    "import matplotlib.pyplot as plt\n",
    "from scipy.special import expit\n",
    "\n",
    "import sys\n",
    "sys.path.append('..')\n",
    "\n",
    "from blazeface import FaceExtractor, BlazeFace, VideoReader\n",
    "from architectures import fornet\n",
    "from isplutils import utils\n",
    "net_model = 'EfficientNetB4'\n",
    "train_db = 'FFPP'\n",
    "device = torch.device('cuda:0') if torch.cuda.is_available() else torch.device('cpu')\n",
    "face_policy = 'scale'\n",
    "frames_per_video = 32"
   ]
  },
  {
   "cell_type": "markdown",
   "metadata": {},
   "source": [
    "## Initialization"
   ]
  },
  {
   "cell_type": "code",
   "execution_count": null,
   "metadata": {},
   "outputs": [
    {
     "name": "stdout",
     "output_type": "stream",
     "text": [
      "Loaded pretrained weights for efficientnet-b4\n"
     ]
    },
    {
     "data": {
      "text/plain": [
       "<All keys matched successfully>"
      ]
     },
     "execution_count": 4,
     "metadata": {},
     "output_type": "execute_result"
    }
   ],
   "source": [
    "model_path = \"/content/drive/MyDrive/KLTN/model_attv3/net-EfficientNetAutoAttB4_traindb-ff-c23-720-140-140_face-scale_size-224_seed-41/bestval.pth\"\n",
    "net = getattr(fornet, net_model)().eval().to(device)\n",
    "checkpoint = torch.load(model_path, map_location=device)\n",
    "net.load_state_dict(checkpoint['net'])"
   ]
  },
  {
   "cell_type": "code",
   "execution_count": 5,
   "metadata": {},
   "outputs": [],
   "source": [
    "transf = utils.get_transformer(face_policy, face_size, net.get_normalizer(), train=False)"
   ]
  },
  {
   "cell_type": "code",
   "execution_count": 6,
   "metadata": {},
   "outputs": [],
   "source": [
    "facedet = BlazeFace().to(device)\n",
    "facedet.load_weights(\"../blazeface/blazeface.pth\")\n",
    "facedet.load_anchors(\"../blazeface/anchors.npy\")\n",
    "videoreader = VideoReader(verbose=False)\n",
    "video_read_fn = lambda x: videoreader.read_frames(x, num_frames=frames_per_video)\n",
    "face_extractor = FaceExtractor(video_read_fn=video_read_fn,facedet=facedet)"
   ]
  },
  {
   "cell_type": "markdown",
   "metadata": {},
   "source": [
    "## Detect faces"
   ]
  },
  {
   "cell_type": "code",
   "execution_count": null,
   "metadata": {},
   "outputs": [],
   "source": [
    "vid_real_faces = face_extractor.process_video('/content/drive/MyDrive/KLTN/datasets/original_sequences/youtube/c23/videos/883.mp4')\n",
    "vid_fake_faces = face_extractor.process_video('/content/drive/MyDrive/KLTN/datasets/manipulated_sequences/Face2Face/c23/videos/254_261.mp4')\n",
    "im_real_face = vid_real_faces[0]['faces'][0]\n",
    "im_fake_face = vid_fake_faces[0]['faces'][0]\n",
    "fig,ax = plt.subplots(1,2,figsize=(8,4))\n",
    "\n",
    "ax[0].imshow(im_real_face)\n",
    "ax[0].set_title('REAL')\n",
    "\n",
    "ax[1].imshow(im_fake_face)\n",
    "ax[1].set_title('FAKE');"
   ]
  },
  {
   "cell_type": "markdown",
   "metadata": {},
   "source": [
    "## Predict scores for each frame"
   ]
  },
  {
   "cell_type": "code",
   "execution_count": 10,
   "metadata": {},
   "outputs": [],
   "source": [
    "# For each frame, we consider the face with the highest confidence score found by BlazeFace (= frame['faces'][0])\n",
    "faces_real_t = torch.stack( [ transf(image=frame['faces'][0])['image'] for frame in vid_real_faces if len(frame['faces'])] )\n",
    "faces_fake_t = torch.stack( [ transf(image=frame['faces'][0])['image'] for frame in vid_fake_faces if len(frame['faces'])] )\n",
    "\n",
    "with torch.no_grad():\n",
    "    faces_real_pred = net(faces_real_t.to(device)).cpu().numpy().flatten()\n",
    "    faces_fake_pred = net(faces_fake_t.to(device)).cpu().numpy().flatten()"
   ]
  },
  {
   "cell_type": "code",
   "execution_count": 11,
   "metadata": {},
   "outputs": [
    {
     "data": {
      "image/png": "[encoded data removed]",
      "text/plain": [
       "<Figure size 864x288 with 2 Axes>"
      ]
     },
     "metadata": {
      "needs_background": "light"
     },
     "output_type": "display_data"
    }
   ],
   "source": [
    "fig,ax = plt.subplots(1,2,figsize=(12,4))\n",
    "\n",
    "ax[0].stem([f['frame_idx'] for f in vid_real_faces if len(f['faces'])],expit(faces_real_pred),use_line_collection=True)\n",
    "ax[0].set_title('REAL')\n",
    "ax[0].set_xlabel('Frame')\n",
    "ax[0].set_ylabel('Score')\n",
    "ax[0].set_ylim([0,1])\n",
    "ax[0].grid(True)\n",
    "\n",
    "ax[1].stem([f['frame_idx'] for f in vid_fake_faces if len(f['faces'])],expit(faces_fake_pred),use_line_collection=True)\n",
    "ax[1].set_title('FAKE')\n",
    "ax[1].set_xlabel('Frame')\n",
    "ax[1].set_ylabel('Score')\n",
    "ax[1].set_ylim([0,1])\n",
    "ax[1].set_yticks([0,1],['REAL','FAKE']);"
   ]
  },
  {
   "cell_type": "code",
   "execution_count": 12,
   "metadata": {},
   "outputs": [
    {
     "name": "stdout",
     "output_type": "stream",
     "text": [
      "Average score for REAL video: 0.0037\n",
      "Average score for FAKE face: 0.9999\n"
     ]
    }
   ],
   "source": [
    "\"\"\"\n",
    "Print average scores.\n",
    "An average score close to 0 predicts REAL. An average score close to 1 predicts FAKE.\n",
    "\"\"\"\n",
    "print('Average score for REAL video: {:.4f}'.format(expit(faces_real_pred.mean())))\n",
    "print('Average score for FAKE face: {:.4f}'.format(expit(faces_fake_pred.mean())))"
   ]
  },
  {
   "cell_type": "code",
   "execution_count": null,
   "metadata": {},
   "outputs": [],
   "source": []
  }
 ],
 "metadata": {
  "kernelspec": {
   "display_name": "Python 3",
   "language": "python",
   "name": "python3"
  },
  "language_info": {
   "codemirror_mode": {
    "name": "ipython",
    "version": 3
   },
   "file_extension": ".py",
   "mimetype": "text/x-python",
   "name": "python",
   "nbconvert_exporter": "python",
   "pygments_lexer": "ipython3",
   "version": "3.7.3"
  }
 },
 "nbformat": 4,
 "nbformat_minor": 4
}
